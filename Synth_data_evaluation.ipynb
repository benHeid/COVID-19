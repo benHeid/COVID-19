{
 "cells": [
  {
   "cell_type": "code",
   "execution_count": 1,
   "metadata": {},
   "outputs": [],
   "source": [
    "using ReproductionNumbers, DataFrames, ExcelFiles, Plots, CSV, Statistics"
   ]
  },
  {
   "cell_type": "code",
   "execution_count": 2,
   "metadata": {},
   "outputs": [
    {
     "data": {
      "text/plain": [
       "\"N(RKI-H)\""
      ]
     },
     "execution_count": 2,
     "metadata": {},
     "output_type": "execute_result"
    }
   ],
   "source": [
    "case_name   =   \"confirmed-cases\"\n",
    "file_name   =   \"../data/20200511_Nowcasting_Zahlen.xlsx\"\n",
    "sheet_name  =   \"Nowcast_R\"\n",
    "days_col    =   \"Datum RKI-Tagesbericht\"\n",
    "data_col    =   \"N_{BF} [k+3,k+4]\"\n",
    "\n",
    "case_name   =   \"estimated-cases-20200511\"\n",
    "file_name   =   \"data/20200511_Nowcasting_Zahlen.xlsx\"\n",
    "sheet_name  =   \"Nowcast_R\"\n",
    "days_col    =   \"Erkrankungsdatum\"\n",
    "data_col    =   \"N(RKI-H)\""
   ]
  },
  {
   "cell_type": "code",
   "execution_count": 3,
   "metadata": {},
   "outputs": [
    {
     "data": {
      "text/plain": [
       "get_values_new (generic function with 1 method)"
      ]
     },
     "execution_count": 3,
     "metadata": {},
     "output_type": "execute_result"
    }
   ],
   "source": [
    "function get_data(df::DataFrame; days_col::String, data_col::String, kind::String)\n",
    "    @assert kind ∈ ( \"R\", \"cases\" ) \"kind $kind not supported\"\n",
    "    index = df[!, days_col]\n",
    "    data = df[!, data_col]\n",
    "    inds = .!ismissing.(data)\n",
    "\n",
    "    DataFrame( Dict(\"days\" => Vector(index[inds]), \"$(kind)\" => Vector(data[inds]) ) )\n",
    "end\n",
    "function build_R_acausal_new(df::DataFrame; past::Int, future::Int, k_gen::Int)\n",
    "    df_N_temp, df_R = build_R(df, past = past, future = future, k_gen = k_gen)\n",
    "    df_N_acausal = compute_cases_acausal_new(df, df_R, past = past, future = future, k_gen = k_gen)\n",
    "    relevant_days = df_N_acausal.days .- k_gen\n",
    "\n",
    "    num = df_N_acausal.cases\n",
    "    den = df_N_temp[ first(relevant_days) .<= df_N_temp.days .<= last(relevant_days), :cases]\n",
    "    R = compute_R(num, den)\n",
    "\n",
    "    df_N_acausal, DataFrame(days = df_N_acausal.days, R = R)\n",
    "end\n",
    "\n",
    "function compute_cases_acausal_new(df_cases::DataFrame, df_reproduction::DataFrame; past::Int, future::Int, k_gen::Int)\n",
    "    start_date = first(df_reproduction).days - past\n",
    "    end_date = last(df_reproduction).days + future\n",
    "\n",
    "    @assert start_date ∈ df_cases.days \"missing case numbers from the past (required start date: $(start_date))\"\n",
    "    @assert end_date ∈ df_cases.days \"missing case numbers from the future (required end date: $(end_date))\"\n",
    "\n",
    "    N = Vector{Float64}()\n",
    "    for row in eachrow(df_reproduction)\n",
    "        day, R = row.days, row.R\n",
    "\n",
    "        w = get_weights(R, past, future, k_gen)\n",
    "        cases = get_values_new(df_cases, day, past, future, column = :cases)\n",
    "\n",
    "        push!(N, mean(cases .* w))\n",
    "    end\n",
    "\n",
    "    DataFrame(days = df_reproduction.days .+ past, cases = N)\n",
    "end\n",
    "\n",
    "function get_values_new(df::DataFrame, present, past::Int, future::Int; column::Symbol = :cases)\n",
    "    df[ present - past .<= df.days .<= present + future , column]\n",
    "end"
   ]
  },
  {
   "cell_type": "code",
   "execution_count": null,
   "metadata": {},
   "outputs": [],
   "source": [
    "k_gen = 4\n",
    "\n",
    "df = DataFrame(load(file_name, sheet_name))\n",
    "df_cases = get_reference_data(df, days_col = days_col, data_col = data_col, kind = \"cases\")\n",
    "rki_h_N, rki_h_R = build_R(df_cases; past = k_gen - 1, future = 0, k_gen = k_gen)\n",
    "neu_h_N, neu_h_R = build_R(df_cases; past = k_gen - 1, future = 3, k_gen = k_gen)\n",
    "neu_ha_N, neu_ha_R = build_R_acausal(df_cases; past = k_gen - 1, future = 3, k_gen = k_gen)\n",
    "\n",
    "\n",
    "gr()\n",
    "plot(rki_h_R.days, rki_h_R.R, marker=:x, label=\"RKI-H\")\n",
    "plot!(neu_h_R.days, neu_h_R.R, marker=:c, label=\"NEU-H\")\n",
    "plot!(neu_ha_R.days, neu_ha_R.R, marker=:s, label=\"NEU-HA\")"
   ]
  },
  {
   "cell_type": "code",
   "execution_count": null,
   "metadata": {},
   "outputs": [],
   "source": [
    "gr()\n",
    "plot(rki_h_N.days, rki_h_N.cases, marker=:x, label=\"RKI-H\")\n",
    "plot!(neu_h_N.days, neu_h_N.cases, marker=:c, label=\"NEU-H\")\n",
    "plot!(neu_ha_N.days, neu_ha_N.cases, marker=:s, label=\"NEU-HA\")"
   ]
  },
  {
   "cell_type": "markdown",
   "metadata": {},
   "source": [
    "## No delay pattern"
   ]
  },
  {
   "cell_type": "code",
   "execution_count": null,
   "metadata": {},
   "outputs": [],
   "source": [
    "df = CSV.read(\"data/synth_0.9_day.csv\")\n",
    "r_true = df[!, \"true R\"]\n",
    "index = df[!, \"k\"]\n",
    "cases = df[!, \"New cases (True)\"]\n",
    "df_cases = get_data(df, days_col = \"k\", data_col = \"New cases (True)\", kind = \"cases\")\n",
    "rki_h_N, rki_h_R = build_R(df_cases; past = k_gen - 1, future = 0, k_gen = k_gen)\n",
    "neu_h_N, neu_h_R = build_R(df_cases; past = k_gen - 1, future = 3, k_gen = k_gen)\n",
    "neu_ha_N, neu_ha_R = build_R_acausal_new(df_cases; past = k_gen - 1, future = 3, k_gen = k_gen)\n",
    "gr()\n",
    "plot(rki_h_R.days, rki_h_R.R, label=\"RKI-H\", yscale=:log10)\n",
    "plot!(neu_h_R.days, neu_h_R.R, label=\"NEU-H\", yscale=:log10)\n",
    "plot!(neu_ha_R.days, neu_ha_R.R, label=\"NEU-HA\", yscale=:log10)\n",
    "plot!(index, r_true, label=\"R true\", yscale=:log10)"
   ]
  },
  {
   "cell_type": "code",
   "execution_count": null,
   "metadata": {},
   "outputs": [],
   "source": [
    "gr()\n",
    "plot(rki_h_N.days, rki_h_N.cases, label=\"RKI-H\")\n",
    "plot!(neu_h_N.days, neu_h_N.cases, label=\"NEU-H\")\n",
    "plot!(neu_ha_N.days, neu_ha_N.cases, label=\"NEU-HA\")\n",
    "plot!(index, cases, label=\"Cases\")"
   ]
  },
  {
   "cell_type": "markdown",
   "metadata": {},
   "source": [
    "## Delayed by 10"
   ]
  },
  {
   "cell_type": "code",
   "execution_count": null,
   "metadata": {},
   "outputs": [],
   "source": [
    "df = CSV.read(\"data/synth_0.9_day.csv\")\n",
    "df_cases = get_data(df, days_col = \"k\", data_col = \"reported cases\", kind = \"cases\")\n",
    "rki_h_N, rki_h_R = build_R(df_cases; past = k_gen - 1, future = 0, k_gen = k_gen)\n",
    "neu_h_N, neu_h_R = build_R(df_cases; past = k_gen - 1, future = 3, k_gen = k_gen)\n",
    "neu_ha_N, neu_ha_R = build_R_acausal_new(df_cases; past = k_gen - 1, future = 3, k_gen = k_gen)\n",
    "gr()\n",
    "plot(rki_h_R.days, rki_h_R.R, label=\"RKI-H\", yscale=:log10)\n",
    "plot!(neu_h_R.days, neu_h_R.R, label=\"NEU-H\", yscale=:log10)\n",
    "plot!(neu_ha_R.days, neu_ha_R.R, label=\"NEU-HA\", yscale=:log10)\n",
    "plot!(index, r_true, label=\"R true\", yscale=:log10)"
   ]
  },
  {
   "cell_type": "code",
   "execution_count": null,
   "metadata": {},
   "outputs": [],
   "source": [
    "gr()\n",
    "plot(rki_h_N.days, rki_h_N.cases, label=\"RKI-H\")\n",
    "plot!(neu_h_N.days, neu_h_N.cases, label=\"NEU-H\")\n",
    "plot!(neu_ha_N.days, neu_ha_N.cases, label=\"NEU-HA\")\n",
    "plot!(index, cases, label=\"Cases\")"
   ]
  },
  {
   "cell_type": "markdown",
   "metadata": {},
   "source": [
    "## 1 Day delay pattern"
   ]
  },
  {
   "cell_type": "code",
   "execution_count": null,
   "metadata": {},
   "outputs": [],
   "source": [
    "df = CSV.read(\"data/synth_0.9_day.csv\")\n",
    "df_cases = get_data(df, days_col = \"k\", data_col = \"delayed\", kind = \"cases\")\n",
    "rki_h_N, rki_h_R = build_R(df_cases; past = k_gen - 1, future = 0, k_gen = k_gen)\n",
    "neu_h_N, neu_h_R = build_R(df_cases; past = k_gen - 1, future = 3, k_gen = k_gen)\n",
    "neu_ha_N, neu_ha_R = build_R_acausal_new(df_cases; past = k_gen - 1, future = 3, k_gen = k_gen)\n",
    "gr()\n",
    "plot(rki_h_R.days, rki_h_R.R, label=\"RKI-H\", yscale=:log10)\n",
    "plot!(neu_h_R.days, neu_h_R.R, label=\"NEU-H\", yscale=:log10)\n",
    "plot!(neu_ha_R.days, neu_ha_R.R, label=\"NEU-HA\", yscale=:log10)\n",
    "plot!(index, r_true, label=\"R true\", yscale=:log10)\n"
   ]
  },
  {
   "cell_type": "code",
   "execution_count": null,
   "metadata": {},
   "outputs": [],
   "source": [
    "gr()\n",
    "plot(rki_h_R.days[1:50], rki_h_R.R[1:50], label=\"RKI-H\",yscale=:log)\n",
    "plot!(neu_h_R.days[1:50], neu_h_R.R[1:50], label=\"NEU-H\",yscale=:log)\n",
    "plot!(neu_ha_R.days[1:50], neu_ha_R.R[1:50], label=\"NEU-HA\",yscale=:log)\n",
    "plot!(index[1:50], r_true[1:50], label=\"R True\",yscale=:log)"
   ]
  },
  {
   "cell_type": "code",
   "execution_count": null,
   "metadata": {},
   "outputs": [],
   "source": [
    "gr()\n",
    "plot(rki_h_R.days[100:450], rki_h_R.R[100:450], label=\"RKI-H\")\n",
    "plot!(neu_h_R.days[100:450], neu_h_R.R[100:450], label=\"NEU-H\")\n",
    "plot!(neu_ha_R.days[100:450], neu_ha_R.R[100:450], label=\"NEU-HA\")\n",
    "plot!(index[100:450], r_true[100:450], label=\"R True\",yscale=:log)"
   ]
  },
  {
   "cell_type": "code",
   "execution_count": null,
   "metadata": {},
   "outputs": [],
   "source": [
    "gr()\n",
    "plot(rki_h_N.days, rki_h_N.cases, label=\"RKI-H\")\n",
    "plot!(neu_h_N.days, neu_h_N.cases, label=\"NEU-H\")\n",
    "plot!(neu_ha_N.days, neu_ha_N.cases, label=\"NEU-HA\")\n",
    "plot!(index, cases, label=\"Cases\")"
   ]
  }
 ],
 "metadata": {
  "kernelspec": {
   "display_name": "Julia 1.4.1",
   "language": "julia",
   "name": "julia-1.4"
  },
  "language_info": {
   "file_extension": ".jl",
   "mimetype": "application/julia",
   "name": "julia",
   "version": "1.4.1"
  }
 },
 "nbformat": 4,
 "nbformat_minor": 4
}
